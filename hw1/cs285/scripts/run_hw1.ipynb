{
 "cells": [
  {
   "cell_type": "markdown",
   "source": [
    "##Setup\n",
    "\n",
    "You will need to make a copy of this notebook in your Google Drive before you can edit the homework files. You can do so with **File &rarr; Save a copy in Drive**."
   ],
   "metadata": {
    "colab_type": "text",
    "id": "mLXw6zd-k3Xd"
   }
  },
  {
   "cell_type": "code",
   "execution_count": null,
   "source": [
    "#@title mount your Google Drive\r\n",
    "#@markdown Your work will be stored in a folder called `cs285_f2021` by default to prevent Colab instance timeouts from deleting your edits.\r\n",
    "\r\n",
    "import os\r\n",
    "from google.colab import drive\r\n",
    "drive.mount('/content/gdrive')"
   ],
   "outputs": [],
   "metadata": {
    "cellView": "form",
    "colab": {},
    "colab_type": "code",
    "id": "4HBPnmbIPPyl"
   }
  },
  {
   "cell_type": "code",
   "execution_count": null,
   "source": [
    "#@title set up mount symlink\r\n",
    "\r\n",
    "DRIVE_PATH = '/content/gdrive/My\\ Drive/cs285_f2021'\r\n",
    "DRIVE_PYTHON_PATH = DRIVE_PATH.replace('\\\\', '')\r\n",
    "if not os.path.exists(DRIVE_PYTHON_PATH):\r\n",
    "  %mkdir $DRIVE_PATH\r\n",
    "\r\n",
    "## the space in `My Drive` causes some issues,\r\n",
    "## make a symlink to avoid this\r\n",
    "SYM_PATH = '/content/cs285_f2021'\r\n",
    "if not os.path.exists(SYM_PATH):\r\n",
    "  !ln -s $DRIVE_PATH $SYM_PATH"
   ],
   "outputs": [],
   "metadata": {
    "cellView": "form",
    "colab": {},
    "colab_type": "code",
    "id": "OuCfTLJIx5nQ"
   }
  },
  {
   "cell_type": "code",
   "execution_count": null,
   "source": [
    "#@title apt install requirements\r\n",
    "\r\n",
    "#@markdown Run each section with Shift+Enter\r\n",
    "\r\n",
    "#@markdown Double-click on section headers to show code.\r\n",
    "\r\n",
    "!apt update \r\n",
    "!apt install -y --no-install-recommends \\\r\n",
    "        build-essential \\\r\n",
    "        curl \\\r\n",
    "        git \\\r\n",
    "        gnupg2 \\\r\n",
    "        make \\\r\n",
    "        cmake \\\r\n",
    "        ffmpeg \\\r\n",
    "        swig \\\r\n",
    "        libz-dev \\\r\n",
    "        unzip \\\r\n",
    "        zlib1g-dev \\\r\n",
    "        libglfw3 \\\r\n",
    "        libglfw3-dev \\\r\n",
    "        libxrandr2 \\\r\n",
    "        libxinerama-dev \\\r\n",
    "        libxi6 \\\r\n",
    "        libxcursor-dev \\\r\n",
    "        libgl1-mesa-dev \\\r\n",
    "        libgl1-mesa-glx \\\r\n",
    "        libglew-dev \\\r\n",
    "        libosmesa6-dev \\\r\n",
    "        lsb-release \\\r\n",
    "        ack-grep \\\r\n",
    "        patchelf \\\r\n",
    "        wget \\\r\n",
    "        xpra \\\r\n",
    "        xserver-xorg-dev \\\r\n",
    "        xvfb \\\r\n",
    "        python-opengl \\\r\n",
    "        ffmpeg"
   ],
   "outputs": [],
   "metadata": {
    "cellView": "form",
    "colab": {},
    "colab_type": "code",
    "id": "XTtWDO-Bkqnn"
   }
  },
  {
   "cell_type": "code",
   "execution_count": null,
   "source": [
    "#@title download mujoco\r\n",
    "\r\n",
    "MJC_PATH = '{}/mujoco'.format(SYM_PATH)\r\n",
    "%mkdir $MJC_PATH\r\n",
    "%cd $MJC_PATH\r\n",
    "!wget -q https://www.roboti.us/download/mujoco200_linux.zip\r\n",
    "!unzip -q mujoco200_linux.zip\r\n",
    "%mv mujoco200_linux mujoco200\r\n",
    "%rm mujoco200_linux.zip"
   ],
   "outputs": [],
   "metadata": {
    "cellView": "form",
    "colab": {},
    "colab_type": "code",
    "id": "QeDMsMOXUAkN"
   }
  },
  {
   "cell_type": "code",
   "execution_count": null,
   "source": [
    "#@title update mujoco paths\r\n",
    "\r\n",
    "import os\r\n",
    "\r\n",
    "os.environ['LD_LIBRARY_PATH'] += ':{}/mujoco200/bin'.format(MJC_PATH)\r\n",
    "os.environ['MUJOCO_PY_MUJOCO_PATH'] = '{}/mujoco200'.format(MJC_PATH)\r\n",
    "os.environ['MUJOCO_PY_MJKEY_PATH'] = '{}/mjkey.txt'.format(MJC_PATH)\r\n",
    "\r\n",
    "## installation on colab does not find *.so files\r\n",
    "## in LD_LIBRARY_PATH, copy over manually instead\r\n",
    "!cp $MJC_PATH/mujoco200/bin/*.so /usr/lib/x86_64-linux-gnu/"
   ],
   "outputs": [],
   "metadata": {
    "cellView": "form",
    "colab": {},
    "colab_type": "code",
    "id": "wTsf6RYGk_pz"
   }
  },
  {
   "cell_type": "markdown",
   "source": [
    "Copy over `mjkey.txt` into `/content/cs285_f2021/mujoco` before this step"
   ],
   "metadata": {
    "colab_type": "text",
    "id": "JI_nuhTulBvU"
   }
  },
  {
   "cell_type": "code",
   "execution_count": null,
   "source": [
    "#@title clone and install mujoco-py\r\n",
    "\r\n",
    "%cd $MJC_PATH\r\n",
    "!git clone https://github.com/openai/mujoco-py.git\r\n",
    "%cd mujoco-py\r\n",
    "%pip install -e .\r\n",
    "\r\n",
    "## cythonize at the first import\r\n",
    "import mujoco_py"
   ],
   "outputs": [],
   "metadata": {
    "cellView": "form",
    "colab": {},
    "colab_type": "code",
    "id": "amF0DgEyklFl"
   }
  },
  {
   "cell_type": "code",
   "execution_count": null,
   "source": [
    "#@title clone homework repo\r\n",
    "\r\n",
    "%cd $SYM_PATH\r\n",
    "!git clone https://github.com/berkeleydeeprlcourse/homework_fall2021.git\r\n",
    "%cd homework_fall2021/hw1\r\n",
    "%pip install -r requirements_colab.txt\r\n",
    "%pip install -e ."
   ],
   "outputs": [],
   "metadata": {
    "cellView": "form",
    "colab": {},
    "colab_type": "code",
    "id": "X_aXQac0f3pr"
   }
  },
  {
   "cell_type": "code",
   "execution_count": null,
   "source": [
    "#@title set up virtual display\r\n",
    "\r\n",
    "from pyvirtualdisplay import Display\r\n",
    "\r\n",
    "display = Display(visible=0, size=(1400, 900))\r\n",
    "display.start()"
   ],
   "outputs": [],
   "metadata": {
    "cellView": "form",
    "colab": {},
    "colab_type": "code",
    "id": "8y_M1tGxmGhT"
   }
  },
  {
   "cell_type": "code",
   "execution_count": null,
   "source": [
    "#@title test virtual display\r\n",
    "\r\n",
    "#@markdown If you see a video of a four-legged ant fumbling about, setup is complete!\r\n",
    "\r\n",
    "import gym\r\n",
    "from cs285.infrastructure.colab_utils import (\r\n",
    "    wrap_env,\r\n",
    "    show_video\r\n",
    ") \r\n",
    "\r\n",
    "env = wrap_env(gym.make(\"Ant-v2\"))\r\n",
    "\r\n",
    "observation = env.reset()\r\n",
    "for i in range(100):\r\n",
    "    env.render(mode='rgb_array')\r\n",
    "    obs, rew, term, _ = env.step(env.action_space.sample() ) \r\n",
    "    if term:\r\n",
    "      break;\r\n",
    "            \r\n",
    "env.close()\r\n",
    "print('Loading video...')\r\n",
    "show_video()"
   ],
   "outputs": [],
   "metadata": {
    "cellView": "form",
    "colab": {
     "base_uri": "https://localhost:8080/",
     "height": 438
    },
    "colab_type": "code",
    "id": "y7cywOEgo4a8",
    "outputId": "c91293e2-0424-4427-b57e-0e12653c991a"
   }
  },
  {
   "cell_type": "markdown",
   "source": [
    "## Editing Code\n",
    "\n",
    "To edit code, click the folder icon on the left menu. Navigate to the corresponding file (`cs285_f2021/...`). Double click a file to open an editor. There is a timeout of about ~12 hours with Colab while it is active (and less if you close your browser window). We sync your edits to Google Drive so that you won't lose your work in the event of an instance timeout, but you will need to re-mount your Google Drive and re-install packages with every new instance."
   ],
   "metadata": {
    "colab_type": "text",
    "id": "eQx7oDGeeKWj"
   }
  },
  {
   "cell_type": "markdown",
   "source": [
    "## Run Behavior Cloning (Problem 1)"
   ],
   "metadata": {
    "colab_type": "text",
    "id": "UunygyDXrx7k"
   }
  },
  {
   "cell_type": "code",
   "execution_count": null,
   "source": [
    "#@title imports\r\n",
    "\r\n",
    "import os\r\n",
    "import time\r\n",
    "import numpy as np\r\n",
    "\r\n",
    "from cs285.infrastructure.rl_trainer import RL_Trainer\r\n",
    "from cs285.agents.bc_agent import BCAgent\r\n",
    "from cs285.policies.loaded_gaussian_policy import LoadedGaussianPolicy\r\n",
    "\r\n",
    "%load_ext autoreload\r\n",
    "%autoreload 2"
   ],
   "outputs": [],
   "metadata": {
    "cellView": "form",
    "colab": {},
    "colab_type": "code",
    "id": "enh5ZMHftEO7"
   }
  },
  {
   "cell_type": "code",
   "execution_count": null,
   "source": [
    "#@title runtime arguments\r\n",
    "\r\n",
    "class Args:\r\n",
    "\r\n",
    "  def __getitem__(self, key):\r\n",
    "    return getattr(self, key)\r\n",
    "\r\n",
    "  def __setitem__(self, key, val):\r\n",
    "    setattr(self, key, val)\r\n",
    "\r\n",
    "  #@markdown expert data\r\n",
    "  expert_policy_file = 'cs285/policies/experts/Ant.pkl' #@param\r\n",
    "  expert_data = 'cs285/expert_data/expert_data_Ant-v2.pkl' #@param\r\n",
    "  env_name = 'Ant-v2' #@param ['Ant-v2', 'Humanoid-v2', 'Walker2d-v2', 'HalfCheetah-v2', 'Hopper-v2']\r\n",
    "  exp_name = 'test_bc_ant' #@param\r\n",
    "  do_dagger = False #@param {type: \"boolean\"}\r\n",
    "  ep_len = 1000 #@param {type: \"integer\"}\r\n",
    "  save_params = False #@param {type: \"boolean\"}\r\n",
    "\r\n",
    "  num_agent_train_steps_per_iter = 1000 #@param {type: \"integer\"})\r\n",
    "  n_iter = 1 #@param {type: \"integer\"})\r\n",
    "\r\n",
    "  #@markdown batches & buffers\r\n",
    "  batch_size = 1000 #@param {type: \"integer\"})\r\n",
    "  eval_batch_size = 1000 #@param {type: \"integer\"}\r\n",
    "  train_batch_size = 100 #@param {type: \"integer\"}\r\n",
    "  max_replay_buffer_size = 1000000 #@param {type: \"integer\"}\r\n",
    "\r\n",
    "  #@markdown network\r\n",
    "  n_layers = 2 #@param {type: \"integer\"}\r\n",
    "  size = 64 #@param {type: \"integer\"}\r\n",
    "  learning_rate = 5e-3 #@param {type: \"number\"}\r\n",
    "\r\n",
    "  #@markdown logging\r\n",
    "  video_log_freq = 5 #@param {type: \"integer\"}\r\n",
    "  scalar_log_freq = 1 #@param {type: \"integer\"}\r\n",
    "\r\n",
    "  #@markdown gpu & run-time settings\r\n",
    "  no_gpu = False #@param {type: \"boolean\"}\r\n",
    "  which_gpu = 0 #@param {type: \"integer\"}\r\n",
    "  seed = 1 #@param {type: \"integer\"}\r\n",
    "\r\n",
    "args = Args()\r\n"
   ],
   "outputs": [],
   "metadata": {
    "cellView": "form",
    "colab": {},
    "colab_type": "code",
    "id": "imnAkQ6jryL7"
   }
  },
  {
   "cell_type": "code",
   "execution_count": null,
   "source": [
    "#@title define `BC_Trainer`\r\n",
    "class BC_Trainer(object):\r\n",
    "\r\n",
    "    def __init__(self, params):\r\n",
    "        #######################\r\n",
    "        ## AGENT PARAMS\r\n",
    "        #######################\r\n",
    "\r\n",
    "        agent_params = {\r\n",
    "            'n_layers': params['n_layers'],\r\n",
    "            'size': params['size'],\r\n",
    "            'learning_rate': params['learning_rate'],\r\n",
    "            'max_replay_buffer_size': params['max_replay_buffer_size'],\r\n",
    "            }\r\n",
    "\r\n",
    "        self.params = params\r\n",
    "        self.params['agent_class'] = BCAgent ## TODO: look in here and implement this\r\n",
    "        self.params['agent_params'] = agent_params\r\n",
    "\r\n",
    "        ################\r\n",
    "        ## RL TRAINER\r\n",
    "        ################\r\n",
    "\r\n",
    "        self.rl_trainer = RL_Trainer(self.params) ## TODO: look in here and implement this\r\n",
    "\r\n",
    "        #######################\r\n",
    "        ## LOAD EXPERT POLICY\r\n",
    "        #######################\r\n",
    "\r\n",
    "        print('Loading expert policy from...', self.params['expert_policy_file'])\r\n",
    "        self.loaded_expert_policy = LoadedGaussianPolicy(self.params['expert_policy_file'])\r\n",
    "        print('Done restoring expert policy...')\r\n",
    "\r\n",
    "    def run_training_loop(self):\r\n",
    "\r\n",
    "        self.rl_trainer.run_training_loop(\r\n",
    "            n_iter=self.params['n_iter'],\r\n",
    "            initial_expertdata=self.params['expert_data'],\r\n",
    "            collect_policy=self.rl_trainer.agent.actor,\r\n",
    "            eval_policy=self.rl_trainer.agent.actor,\r\n",
    "            relabel_with_expert=self.params['do_dagger'],\r\n",
    "            expert_policy=self.loaded_expert_policy,\r\n",
    "        )\r\n"
   ],
   "outputs": [],
   "metadata": {
    "cellView": "form",
    "colab": {},
    "colab_type": "code",
    "id": "fLnU1evmss4I"
   }
  },
  {
   "cell_type": "code",
   "execution_count": null,
   "source": [
    "#@title create directory for logging\r\n",
    "\r\n",
    "if args.do_dagger:\r\n",
    "    logdir_prefix = 'q2_'  # The autograder uses the prefix `q2_`\r\n",
    "    assert args.n_iter>1, ('DAgger needs more than 1 iteration (n_iter>1) of training, to iteratively query the expert and train (after 1st warmstarting from behavior cloning).')\r\n",
    "else:\r\n",
    "    logdir_prefix = 'q1_'  # The autograder uses the prefix `q1_`\r\n",
    "    assert args.n_iter==1, ('Vanilla behavior cloning collects expert data just once (n_iter=1)')\r\n",
    "\r\n",
    "data_path ='/content/cs285_f2021/hw1/data'\r\n",
    "if not (os.path.exists(data_path)):\r\n",
    "    os.makedirs(data_path)\r\n",
    "logdir = logdir_prefix + args.exp_name + '_' + args.env_name + \\\r\n",
    "         '_' + time.strftime(\"%d-%m-%Y_%H-%M-%S\")\r\n",
    "logdir = os.path.join(data_path, logdir)\r\n",
    "args['logdir'] = logdir\r\n",
    "if not(os.path.exists(logdir)):\r\n",
    "    os.makedirs(logdir)"
   ],
   "outputs": [],
   "metadata": {
    "cellView": "form",
    "colab": {},
    "colab_type": "code",
    "id": "7UkzHBfxsxH8"
   }
  },
  {
   "cell_type": "code",
   "execution_count": null,
   "source": [
    "## run training\r\n",
    "print(args.logdir)\r\n",
    "trainer = BC_Trainer(args)\r\n",
    "trainer.run_training_loop()"
   ],
   "outputs": [],
   "metadata": {
    "colab": {},
    "colab_type": "code",
    "id": "_qQb789_syt0"
   }
  },
  {
   "cell_type": "code",
   "execution_count": null,
   "source": [
    "#@markdown You can visualize your runs with tensorboard from within the notebook\r\n",
    "\r\n",
    "%load_ext tensorboard\r\n",
    "%tensorboard --logdir /content/cs285_f2021/hw1/data"
   ],
   "outputs": [],
   "metadata": {
    "colab": {},
    "colab_type": "code",
    "id": "75M0MlR5tUIb"
   }
  },
  {
   "cell_type": "markdown",
   "source": [
    "## Running DAgger (Problem 2)\n",
    "Modify the settings above:\n",
    "1. check the `do_dagger` box\n",
    "2. set `n_iters` to `10`\n",
    "and then rerun the code."
   ],
   "metadata": {
    "colab_type": "text",
    "id": "ff9onuUPfPEa"
   }
  }
 ],
 "metadata": {
  "colab": {
   "name": "run_hw1.ipynb",
   "provenance": [],
   "toc_visible": true
  },
  "kernelspec": {
   "display_name": "Python 3",
   "language": "python",
   "name": "python3"
  },
  "language_info": {
   "codemirror_mode": {
    "name": "ipython",
    "version": 3
   },
   "file_extension": ".py",
   "mimetype": "text/x-python",
   "name": "python",
   "nbconvert_exporter": "python",
   "pygments_lexer": "ipython3",
   "version": "3.6.13"
  }
 },
 "nbformat": 4,
 "nbformat_minor": 4
}